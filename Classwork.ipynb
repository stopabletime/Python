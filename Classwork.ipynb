{
  "nbformat": 4,
  "nbformat_minor": 0,
  "metadata": {
    "colab": {
      "name": "Classwork.ipynb",
      "provenance": [],
      "collapsed_sections": [
        "bnWR7u-fMmjo",
        "50dI89AOQBqL",
        "8y8hghlcXYgN",
        "3pOqE3l4bp1z",
        "5885QFZ0ilJI",
        "XgFdm5tPjMNd",
        "7TeT5PIlmXbv",
        "yFt6bs7bbaiw",
        "jKQWM0TTkBFU",
        "ZD5hQTcJSM_e",
        "kVSxgKTXh9Ir"
      ],
      "authorship_tag": "ABX9TyMg814+M49WJMHW3gcdW/cH"
    },
    "kernelspec": {
      "name": "python3",
      "display_name": "Python 3"
    },
    "language_info": {
      "name": "python"
    }
  },
  "cells": [
    {
      "cell_type": "markdown",
      "source": [
        "Date: 05April2022\n",
        "Program to take input, using input and swapping\n",
        "Example of multiple assignment"
      ],
      "metadata": {
        "id": "2ZlCXSC1WQmt"
      }
    },
    {
      "cell_type": "code",
      "source": [
        "#Program to add two numbers\n",
        "num1=int(input(\"Enter integer :\"))\n",
        "num2=int(input(\"Enter integer :\"))\n",
        "sum=num1+num2\n",
        "print(\"Sum is :\",sum)"
      ],
      "metadata": {
        "id": "nT15F92YVKvg"
      },
      "execution_count": null,
      "outputs": []
    },
    {
      "cell_type": "code",
      "source": [
        "# Example of multiple assignment\n",
        "\n",
        "a=10\n",
        "b=20\n",
        "a,b=b+2,a+3\n",
        "print(\"a =\",a)\n",
        "print(\"b =\",b)"
      ],
      "metadata": {
        "id": "Ad6Fp7jVWjXJ"
      },
      "execution_count": null,
      "outputs": []
    },
    {
      "cell_type": "code",
      "source": [
        "#Few statements using if\n",
        "if 2<1:\n",
        "  print(\"First\")\n",
        "elif:\n",
        "  print(\"Second\")"
      ],
      "metadata": {
        "id": "vl0IzCzIaUHo"
      },
      "execution_count": null,
      "outputs": []
    },
    {
      "cell_type": "markdown",
      "source": [
        "If else statements \n",
        "Date: 07April2022\n"
      ],
      "metadata": {
        "id": "YP4Hf_2c-Uq0"
      }
    },
    {
      "cell_type": "code",
      "source": [
        "#Few statements use switch if condiotions\n",
        "a=20\n",
        "b=30\n",
        "if(a<b):\n",
        "  print(a,\"<\",b)\n",
        "elif(a==b):\n",
        "  print(a,\"=\",b)\n",
        "else:\n",
        "  print(a,\">\",b)"
      ],
      "metadata": {
        "id": "mRIP4Aqw-dgs"
      },
      "execution_count": null,
      "outputs": []
    },
    {
      "cell_type": "code",
      "source": [
        "#Singleline statement written in multiline\n",
        "\n",
        "a=\\\n",
        "10\\\n",
        "+20\n",
        "a"
      ],
      "metadata": {
        "id": "onATQZLG_eYn"
      },
      "execution_count": null,
      "outputs": []
    },
    {
      "cell_type": "code",
      "source": [
        "#Singleline statement written in multiline\n",
        "print(\"Hello\"\\\n",
        "      \"Hi\")"
      ],
      "metadata": {
        "id": "b8Gi6NqtAsrF"
      },
      "execution_count": null,
      "outputs": []
    },
    {
      "cell_type": "code",
      "source": [
        "#Multiline statement which are supposed to be single line\n",
        "a=10*20\\\n",
        "30-4\n",
        "a"
      ],
      "metadata": {
        "id": "AjXG4D7RDXwq"
      },
      "execution_count": null,
      "outputs": []
    },
    {
      "cell_type": "code",
      "source": [
        "#two statements written in single line\n",
        "a=7 ;print(a)"
      ],
      "metadata": {
        "id": "rNkmQaOLEAhF"
      },
      "execution_count": null,
      "outputs": []
    },
    {
      "cell_type": "code",
      "source": [
        "#Multi line in single line\n",
        "if 2>1: print(\"2\")"
      ],
      "metadata": {
        "id": "6rYlll_AEOvs"
      },
      "execution_count": null,
      "outputs": []
    },
    {
      "cell_type": "code",
      "source": [
        "#Put a blank line\n",
        "if 2>1:\n",
        "  print(\"1\")\n",
        "  print(\"2\")\n",
        "  "
      ],
      "metadata": {
        "id": "g7FCNTb9EiEq"
      },
      "execution_count": null,
      "outputs": []
    },
    {
      "cell_type": "code",
      "source": [
        "#Using comment\n",
        "print(\"Hello world\") #This is comment"
      ],
      "metadata": {
        "colab": {
          "base_uri": "https://localhost:8080/"
        },
        "id": "yo7pxVHVGBXh",
        "outputId": "66f6874d-7f18-48c0-fef6-9882e10aede4"
      },
      "execution_count": null,
      "outputs": [
        {
          "output_type": "stream",
          "name": "stdout",
          "text": [
            "Hello world\n"
          ]
        }
      ]
    },
    {
      "cell_type": "markdown",
      "source": [
        "Date : 07 April 2022\n",
        "Learning to use function"
      ],
      "metadata": {
        "id": "7yE5OjAvH9s4"
      }
    },
    {
      "cell_type": "code",
      "source": [
        "#Using function in python\n",
        "def add(a,b):\n",
        "  return(a+b)\n",
        "add(10,20)\n",
        "add(\"Hi\",\"Run\")"
      ],
      "metadata": {
        "colab": {
          "base_uri": "https://localhost:8080/",
          "height": 35
        },
        "id": "WZ-ypoDjGIKz",
        "outputId": "c3942c27-3165-4736-c7d5-7df53dc9daf4"
      },
      "execution_count": null,
      "outputs": [
        {
          "output_type": "execute_result",
          "data": {
            "text/plain": [
              "'HiRun'"
            ],
            "application/vnd.google.colaboratory.intrinsic+json": {
              "type": "string"
            }
          },
          "metadata": {},
          "execution_count": 23
        }
      ]
    },
    {
      "cell_type": "code",
      "source": [
        "#Syntax error in program\n",
        "#Practicing on my own, program for finding a prime number\n",
        "num=int(input(\"Enter the integer :\"))\n",
        "m=num/2\n",
        "flag=0\n",
        "i=1\n",
        "while(i<=m):\n",
        "  if(m%i==0):\n",
        "    print(\"Number is not prime\")\n",
        "    flag=1\n",
        "    i+=2\n",
        "    break;\n",
        "if(flag==0):\n",
        "  print(\"Number is prime\")\n"
      ],
      "metadata": {
        "id": "XLGdvDDoscrI"
      },
      "execution_count": null,
      "outputs": []
    },
    {
      "cell_type": "markdown",
      "source": [
        "DATE: 08april2022\n",
        "Using single quotes and double quotes\n",
        "\n",
        "PYTHON QUOTATIONS"
      ],
      "metadata": {
        "id": "c9QlUfDtJVM0"
      }
    },
    {
      "cell_type": "code",
      "source": [
        "#Using double quotes\n",
        "\n",
        "print(\"Hello World\")"
      ],
      "metadata": {
        "id": "68gMn-kZJiNO"
      },
      "execution_count": null,
      "outputs": []
    },
    {
      "cell_type": "code",
      "source": [
        "#Using single quotes\n",
        "\n",
        "print('Hello world')"
      ],
      "metadata": {
        "id": "vJKQSZe4Jnr6"
      },
      "execution_count": null,
      "outputs": []
    },
    {
      "cell_type": "code",
      "source": [
        "#Using \"\\ in multiline comments\"\n",
        "\n",
        "'''Hello world\\\n",
        "\\yo'''\n",
        "\n",
        "print(''' Hello    World ''')"
      ],
      "metadata": {
        "id": "DlvRBNBgJu45"
      },
      "execution_count": null,
      "outputs": []
    },
    {
      "cell_type": "code",
      "source": [
        "#Cannot use double quotes within double quotes same with single quotes\n",
        "#Syntactical error will pop-upt\n",
        "print(\"Hello world \"I am doing well\"\")"
      ],
      "metadata": {
        "id": "J-S4ydXgLAbL"
      },
      "execution_count": null,
      "outputs": []
    },
    {
      "cell_type": "markdown",
      "source": [
        "#Usage of triple quotes\n",
        "\n",
        "print(\"\"\" Hello world \n",
        "                      h ey \"\"\")"
      ],
      "metadata": {
        "id": "bnWR7u-fMmjo"
      }
    },
    {
      "cell_type": "markdown",
      "source": [
        "# % operator in print formatting\n",
        "x=\"Naive\"\n",
        "print(\"Hello world I am %s\"%(x))"
      ],
      "metadata": {
        "id": "50dI89AOQBqL"
      }
    },
    {
      "cell_type": "code",
      "source": [
        "#Format method in formatting \n",
        "x=\"class\"\n",
        "y=1\n",
        "print(\"I have been in the {0} for {1}\".format(x,y))"
      ],
      "metadata": {
        "id": "ruuC91S1TCFw",
        "colab": {
          "base_uri": "https://localhost:8080/"
        },
        "outputId": "2bf43bbf-ec54-4dc5-eecd-85771e8a35df"
      },
      "execution_count": null,
      "outputs": [
        {
          "output_type": "stream",
          "name": "stdout",
          "text": [
            "I have been in the class for 1\n"
          ]
        }
      ]
    },
    {
      "cell_type": "code",
      "source": [
        "#Format method in formatting\n",
        "print(\"I have been in the {x} for {printer}\".format(x=\"class\",printer=1))"
      ],
      "metadata": {
        "id": "cWh-2khVT0KO",
        "colab": {
          "base_uri": "https://localhost:8080/"
        },
        "outputId": "badf900e-6cef-4d62-e368-6bbf2b77d964"
      },
      "execution_count": null,
      "outputs": [
        {
          "output_type": "stream",
          "name": "stdout",
          "text": [
            "I have been in the class for 1\n"
          ]
        }
      ]
    },
    {
      "cell_type": "code",
      "source": [
        "# f strings\n",
        "x=10\n",
        "printer=\"HP\"\n",
        "print(f\"I just printed {x} pages to the printer {printer}\")"
      ],
      "metadata": {
        "id": "QmkKLmILUZja",
        "colab": {
          "base_uri": "https://localhost:8080/"
        },
        "outputId": "63c55959-a5bb-435a-a92c-0ef9e58c4e24"
      },
      "execution_count": null,
      "outputs": [
        {
          "output_type": "stream",
          "name": "stdout",
          "text": [
            "I just printed 10 pages to the printer HP\n"
          ]
        }
      ]
    },
    {
      "cell_type": "code",
      "source": [
        "#del keyword\n",
        "\n",
        "x=10\n",
        "del x\n",
        "print(x)"
      ],
      "metadata": {
        "id": "xoOKVs-DXiyF"
      },
      "execution_count": null,
      "outputs": []
    },
    {
      "cell_type": "code",
      "source": [
        "#checking variable type\n",
        "\n",
        "x=10\n",
        "y=\"Num\"\n",
        "c=1.3\n",
        "d=True\n",
        "e=('a','b')\n",
        "f=['a','b']\n",
        "j={\"1\":\"Hello\",\"2\":\"Bro\"}\n",
        "type(j)"
      ],
      "metadata": {
        "id": "USmzKPCiXoZa"
      },
      "execution_count": null,
      "outputs": []
    },
    {
      "cell_type": "markdown",
      "source": [
        "DATE 19 April 2022\n",
        "**Python lists, data types in python** "
      ],
      "metadata": {
        "id": "KG4HJ1WDWkKe"
      }
    },
    {
      "cell_type": "code",
      "source": [
        ""
      ],
      "metadata": {
        "id": "gDmyIRrqXLwW"
      },
      "execution_count": null,
      "outputs": []
    },
    {
      "cell_type": "markdown",
      "source": [
        "# Data types\n",
        "\n",
        "Python lists\n"
      ],
      "metadata": {
        "id": "8y8hghlcXYgN"
      }
    },
    {
      "cell_type": "markdown",
      "source": [
        "Date 19April2022\n",
        "\n",
        "Python lists, slicing in the lists\n",
        "\n",
        "Fundamental data type : Int, flaot , string,complex\n",
        "\n",
        "Sequential data type : List,tuple,set,dictionary\n"
      ],
      "metadata": {
        "id": "FhhfjRo3X02i"
      }
    },
    {
      "cell_type": "markdown",
      "source": [
        "List - It can contain different data types\n",
        "- Values can be changed\n",
        "Operations which can be performed\n",
        "Slicing, Indexing\n"
      ],
      "metadata": {
        "id": "ex6-vQ7TY60A"
      }
    },
    {
      "cell_type": "code",
      "source": [
        "days=['Mon','Tue','Wed',4,5,6,7]\n",
        "#slicing of the list\n",
        "print(days[1:3])\n",
        "print(days[0:1])\n",
        "print(days[0:6])\n",
        "\n",
        "#length of the list\n",
        "print(\"Length of the list\",len(days))\n",
        "#Slicing of the list\n",
        "print(days[0:2])\n",
        "\n",
        "#Indexing\n",
        "print(days[2])\n",
        "#Reassign the value\n",
        "days[2]=\"Ayush\"\n",
        "print(days[2])"
      ],
      "metadata": {
        "id": "Ew2QtunWXeuQ"
      },
      "execution_count": null,
      "outputs": []
    },
    {
      "cell_type": "code",
      "source": [
        "#iterating on the list\n",
        "days=['Mon','Tue','Wed',4,5,6,7]\n",
        "#Using the for loop \n",
        "for n in days:\n",
        "  print(n)"
      ],
      "metadata": {
        "id": "GnXnhu39ZrUv"
      },
      "execution_count": null,
      "outputs": []
    },
    {
      "cell_type": "markdown",
      "source": [
        "Multidimensional list \n",
        "There will be list inside the list\n",
        "#Date: 19April2022"
      ],
      "metadata": {
        "id": "3pOqE3l4bp1z"
      }
    },
    {
      "cell_type": "code",
      "source": [
        "matrix=[[1,2,3,4],[5,6,7,8]]\n",
        "matrix\n",
        "#Checking the length of the list\n",
        "#print(len(matrix))\n",
        "#print(matrix)\n",
        "#print(matrix[0:1])\n",
        "for n in matrix:\n",
        "    print(m)"
      ],
      "metadata": {
        "id": "MD5m58jab2yd"
      },
      "execution_count": null,
      "outputs": []
    },
    {
      "cell_type": "markdown",
      "source": [
        "Tuple as a data type\n",
        "Date: 19 April 2022"
      ],
      "metadata": {
        "id": "bKe4WmflcpRk"
      }
    },
    {
      "cell_type": "code",
      "source": [
        "subjects=(\"maths\",\"english\",\"hindi\")\n",
        "subjects\n",
        "#Slicing\n",
        "print(subjects[1])\n",
        "print(subjects[0:2])\n",
        "#Indexing (Item assingment)\n",
        "#print(subjects[2])\n",
        "#subjects[2]=\"Shubh\"\n",
        "#print(subjects[2])\n",
        "\n",
        "for n in subjects:\n",
        "  print(n)"
      ],
      "metadata": {
        "id": "9CRF0qvMc0Qk"
      },
      "execution_count": null,
      "outputs": []
    },
    {
      "cell_type": "markdown",
      "source": [
        "Dictionaries\n",
        "A dictionary holds key value pairs. Declare it in curly braces, with pairs separated by commas\n"
      ],
      "metadata": {
        "id": "_J3ZK5CdedQ0"
      }
    },
    {
      "cell_type": "code",
      "source": [
        "person={'City':'Ahemdabad','Age':7}\n",
        "print(person)\n",
        "\n",
        "#Accessing a value\n",
        "print(person['City'])\n",
        "\n",
        "#List of keys\n",
        "print(person.keys())"
      ],
      "metadata": {
        "id": "-CKrYYP7eqIx"
      },
      "execution_count": null,
      "outputs": []
    },
    {
      "cell_type": "markdown",
      "source": [
        "Boolean data type"
      ],
      "metadata": {
        "id": "Qx1xkPovfwub"
      }
    },
    {
      "cell_type": "code",
      "source": [
        "#Assigning boolean by using relational operator\n",
        "num=2>1\n",
        "print(num)\n",
        "#Checking condition using relational operator\n",
        "num=1>2\n",
        "print(num)\n"
      ],
      "metadata": {
        "id": "50oVlxqhgAZs"
      },
      "execution_count": null,
      "outputs": []
    },
    {
      "cell_type": "markdown",
      "source": [
        "Set in python\n",
        "date 19 april 2022\n",
        "Using different functions\n",
        "\n",
        "\n",
        "With set we can use functions like add and remove\n"
      ],
      "metadata": {
        "id": "FjyIB6aeguPZ"
      }
    },
    {
      "cell_type": "code",
      "source": [
        "age=(21,18,32,64)\n",
        "age"
      ],
      "metadata": {
        "id": "jpVHCKKLg2Mn"
      },
      "execution_count": null,
      "outputs": []
    },
    {
      "cell_type": "markdown",
      "source": [
        "DATE : 22 April 2022\n"
      ],
      "metadata": {
        "id": "yEtyHL-CZZKB"
      }
    },
    {
      "cell_type": "markdown",
      "source": [
        "Sets from python data type\n"
      ],
      "metadata": {
        "id": "tG0-y-nQaCWg"
      }
    },
    {
      "cell_type": "code",
      "source": [
        "#Set is mutable. You can change its element or add more. Using add() function\n",
        "#And remove the elements using remove() function.\n",
        "age={21,18,32,64}\n",
        "age\n",
        "age.add(69)\n",
        "print(age)\n",
        "age.remove(69)\n",
        "print(age)\n",
        "age.add(\"Ram\")\n",
        "print(age)\n",
        "age.remove(\"Ram\")\n",
        "print(age)\n",
        "\n",
        "\n",
        "\n"
      ],
      "metadata": {
        "id": "KEMV6ThHaF2e"
      },
      "execution_count": null,
      "outputs": []
    },
    {
      "cell_type": "markdown",
      "source": [
        "Completed sequential data type"
      ],
      "metadata": {
        "id": "RE43WMAjbRVo"
      }
    },
    {
      "cell_type": "code",
      "source": [
        "#Python wiht the dynamic typing\n",
        "\n",
        "#It converts the value into an int\n",
        "int(42.7)\n",
        "#Turning a boolean into int \n",
        "int(False)"
      ],
      "metadata": {
        "id": "cWjCzJVUba-S"
      },
      "execution_count": null,
      "outputs": []
    },
    {
      "cell_type": "code",
      "source": [
        "#Float\n",
        "#It converts the value into a float\n",
        "\n",
        "int(\"77\")\n",
        "float(7)\n",
        "float(True)\n",
        "float(\"11.9\")\n",
        "float(\"2.1e-4\")\n",
        "#float(2.1e-2)"
      ],
      "metadata": {
        "id": "4S3BgLZ2eeTy"
      },
      "execution_count": null,
      "outputs": []
    },
    {
      "cell_type": "code",
      "source": [
        "#str()\n",
        "#It converts the value into a string\n",
        "str(6)\n",
        "str(7.4)\n",
        "str(True)\n",
        "str(89)"
      ],
      "metadata": {
        "id": "t98Z9Yzrf5gf"
      },
      "execution_count": null,
      "outputs": []
    },
    {
      "cell_type": "code",
      "source": [
        "#bool()\n",
        "#It converts the value\n",
        "\n",
        "bool(0)\n",
        "bool(True)\n",
        "bool(3)\n",
        "bool(())\n",
        "bool({})\n",
        "\n",
        "#Any meaningful value will return a true"
      ],
      "metadata": {
        "colab": {
          "base_uri": "https://localhost:8080/"
        },
        "id": "0YVFnn54hRG7",
        "outputId": "8ebc9165-b20d-43b4-abd2-468517a42005"
      },
      "execution_count": null,
      "outputs": [
        {
          "output_type": "execute_result",
          "data": {
            "text/plain": [
              "False"
            ]
          },
          "metadata": {},
          "execution_count": 55
        }
      ]
    },
    {
      "cell_type": "markdown",
      "source": [
        "Date: 22 April 2022\n"
      ],
      "metadata": {
        "id": "OM2gdBUDiFoi"
      }
    },
    {
      "cell_type": "markdown",
      "source": [
        "\n",
        "#Date : 22April2022\n"
      ],
      "metadata": {
        "id": "5885QFZ0ilJI"
      }
    },
    {
      "cell_type": "markdown",
      "source": [
        "#Set\n",
        "#It converts the value into a set"
      ],
      "metadata": {
        "id": "XgFdm5tPjMNd"
      }
    },
    {
      "cell_type": "code",
      "source": [
        "#set() we use {} to define the list\n",
        "set({1,2,2,3})"
      ],
      "metadata": {
        "colab": {
          "base_uri": "https://localhost:8080/"
        },
        "id": "OqWgqTr0jUED",
        "outputId": "b2b01902-7f53-42c2-b41e-fea00f624ce3"
      },
      "execution_count": null,
      "outputs": [
        {
          "output_type": "execute_result",
          "data": {
            "text/plain": [
              "{1, 2, 3}"
            ]
          },
          "metadata": {},
          "execution_count": 58
        }
      ]
    },
    {
      "cell_type": "code",
      "source": [
        "#list()\n",
        "#It converts the value into a list\n",
        "list(\"1234\")\n",
        "list({1,2,3,4})\n",
        "list({\"a\":1})"
      ],
      "metadata": {
        "colab": {
          "base_uri": "https://localhost:8080/"
        },
        "id": "FNMOYDnrj-uD",
        "outputId": "7670f5cf-0660-4a54-8f94-34d8b4bd7bc9"
      },
      "execution_count": null,
      "outputs": [
        {
          "output_type": "execute_result",
          "data": {
            "text/plain": [
              "['a']"
            ]
          },
          "metadata": {},
          "execution_count": 61
        }
      ]
    },
    {
      "cell_type": "code",
      "source": [
        "#Tuple()\n",
        "#This function converts the value into a tuple\n",
        "\n",
        "tuple({1,2,3,4})\n",
        "\n",
        "#Using composite functions\n",
        "\n",
        "tuple(list(set([1,2])))\n",
        "list(set({1,2,3}))\n"
      ],
      "metadata": {
        "id": "SeKmBAEglGCn"
      },
      "execution_count": null,
      "outputs": []
    },
    {
      "cell_type": "markdown",
      "source": [
        "#Python local variable\n",
        "#When you declare a variable in a function, class or so it is scope . If you call it outside of that scope, you get an \"Undefinied\"\n"
      ],
      "metadata": {
        "id": "7TeT5PIlmXbv"
      }
    },
    {
      "cell_type": "code",
      "source": [
        "#Using function\n",
        "\n",
        "def func():\n",
        "  #Declaring local variable\n",
        "  num=2\n",
        "  print(num)\n",
        "func()\n"
      ],
      "metadata": {
        "colab": {
          "base_uri": "https://localhost:8080/"
        },
        "id": "J1AtGbFaoL5T",
        "outputId": "0db27c70-6293-4c0d-be76-4d9fe392d197"
      },
      "execution_count": null,
      "outputs": [
        {
          "output_type": "stream",
          "name": "stdout",
          "text": [
            "2\n"
          ]
        }
      ]
    },
    {
      "cell_type": "code",
      "source": [
        "def add():\n",
        "  num=10\n",
        "  num1=20\n",
        "  print(\"Sum is\",num+num1)\n",
        "add()\n",
        "print(num-num2)"
      ],
      "metadata": {
        "colab": {
          "base_uri": "https://localhost:8080/",
          "height": 217
        },
        "id": "Xenac_yOobPY",
        "outputId": "d59d40cd-5416-4b4b-d5b6-cc35af83e90d"
      },
      "execution_count": null,
      "outputs": [
        {
          "output_type": "stream",
          "name": "stdout",
          "text": [
            "Sum is 30\n"
          ]
        },
        {
          "output_type": "error",
          "ename": "NameError",
          "evalue": "ignored",
          "traceback": [
            "\u001b[0;31m---------------------------------------------------------------------------\u001b[0m",
            "\u001b[0;31mNameError\u001b[0m                                 Traceback (most recent call last)",
            "\u001b[0;32m<ipython-input-67-8f5f925adbae>\u001b[0m in \u001b[0;36m<module>\u001b[0;34m()\u001b[0m\n\u001b[1;32m      4\u001b[0m   \u001b[0mprint\u001b[0m\u001b[0;34m(\u001b[0m\u001b[0;34m\"Sum is\"\u001b[0m\u001b[0;34m,\u001b[0m\u001b[0mnum\u001b[0m\u001b[0;34m+\u001b[0m\u001b[0mnum1\u001b[0m\u001b[0;34m)\u001b[0m\u001b[0;34m\u001b[0m\u001b[0;34m\u001b[0m\u001b[0m\n\u001b[1;32m      5\u001b[0m \u001b[0madd\u001b[0m\u001b[0;34m(\u001b[0m\u001b[0;34m)\u001b[0m\u001b[0;34m\u001b[0m\u001b[0;34m\u001b[0m\u001b[0m\n\u001b[0;32m----> 6\u001b[0;31m \u001b[0mprint\u001b[0m\u001b[0;34m(\u001b[0m\u001b[0mnum\u001b[0m\u001b[0;34m-\u001b[0m\u001b[0mnum2\u001b[0m\u001b[0;34m)\u001b[0m\u001b[0;34m\u001b[0m\u001b[0;34m\u001b[0m\u001b[0m\n\u001b[0m",
            "\u001b[0;31mNameError\u001b[0m: name 'num2' is not defined"
          ]
        }
      ]
    },
    {
      "cell_type": "code",
      "source": [
        "#Global variable\n",
        "#Declaring global variable\n",
        "#22April2022\n",
        "n=8\n",
        "def add():\n",
        "  #Declaring local variable\n",
        "  m=n+2\n",
        "  print(m)\n",
        "add()\n",
        "print(n)\n"
      ],
      "metadata": {
        "colab": {
          "base_uri": "https://localhost:8080/"
        },
        "id": "aCsZoRaPpRpx",
        "outputId": "9c05a535-28bf-458b-f4c3-f73b37c29812"
      },
      "execution_count": null,
      "outputs": [
        {
          "output_type": "stream",
          "name": "stdout",
          "text": [
            "10\n",
            "8\n"
          ]
        }
      ]
    },
    {
      "cell_type": "code",
      "source": [
        "#Declaring global variable\n",
        "n=8\n",
        "def func():\n",
        "  global n\n",
        "  n=0\n",
        "  n=n+2\n",
        "  print(n)\n",
        "func()\n",
        "print(n)"
      ],
      "metadata": {
        "id": "I6UZeYxjsRL8"
      },
      "execution_count": null,
      "outputs": []
    },
    {
      "cell_type": "markdown",
      "source": [
        "# Date : 26April2022\n"
      ],
      "metadata": {
        "id": "yFt6bs7bbaiw"
      }
    },
    {
      "cell_type": "markdown",
      "source": [
        "Identifier : Identifier is a user-defined name to represent a variable, a function,a class, a module or any other object\n",
        "- It is a programmable entity in python one with a name\n",
        "- It is a name given to the fundamental building blocks in a program\n",
        "\n",
        "\n",
        "Rules for naming valid identifiers in python :\n",
        "1 - Lowercase letters (a to z)\n",
        "2 - Uppercase letters (A to Z)\n",
        "3 - Digits (0 to 9)\n",
        "4 - Underscore (_)\n",
        "Some valid names are : \n",
        "myVar\n",
        "_9veriename"
      ],
      "metadata": {
        "id": "YC02LlX1bh0d"
      }
    },
    {
      "cell_type": "code",
      "source": [
        "#Program to get all the keywords\n",
        "#Date : 26April2022\n",
        "import keyword\n",
        "keyword.kwlist\n",
        "keyword.iskeyword(\"main\")\n",
        "\n",
        "#keyword.iskeyword() to check the given string is keyword or not\n",
        "\n",
        "#isidentifier() to check if the given string is identifier or not\n",
        "'__$$__'.isidentifier()"
      ],
      "metadata": {
        "id": "YwAROvgUdnuM"
      },
      "execution_count": null,
      "outputs": []
    },
    {
      "cell_type": "markdown",
      "source": [
        "Reserved classes of python identifiers\n",
        "- Some classes have special meanings\n",
        "- Reserve classes and reserve modules starts with (\"__\") and ends with (\"__\")\n"
      ],
      "metadata": {
        "id": "Fkt7klBYgWcv"
      }
    },
    {
      "cell_type": "code",
      "source": [
        "#Overwritting the global variable\n",
        "\n",
        "num=2\n",
        "def func():\n",
        "  num=3\n",
        "  print(num)\n",
        "func()\n",
        "\n",
        "#We can't use the global variable and overwrite with the local variable and \n",
        "#print it"
      ],
      "metadata": {
        "id": "-1rnRHQPi7Ny"
      },
      "execution_count": null,
      "outputs": []
    },
    {
      "cell_type": "markdown",
      "source": [
        "#Enclosed scope"
      ],
      "metadata": {
        "id": "jKQWM0TTkBFU"
      }
    },
    {
      "cell_type": "code",
      "source": [
        "def red():\n",
        "  num1=1\n",
        "  def blue():\n",
        "    num2=2\n",
        "    print(num1)\n",
        "    print(num2)\n",
        "  blue()\n",
        "  print(num1)\n",
        "red()"
      ],
      "metadata": {
        "id": "RZd5b_7RkD50"
      },
      "execution_count": null,
      "outputs": []
    },
    {
      "cell_type": "markdown",
      "source": [
        "# Date : 29April2022"
      ],
      "metadata": {
        "id": "ZD5hQTcJSM_e"
      }
    },
    {
      "cell_type": "markdown",
      "source": [
        "Enclosed scope in python\n",
        "\n",
        "- We also declare a variable 'b' outside any other python variable scope, This makes it global scope"
      ],
      "metadata": {
        "id": "WZbKp2pQSdbP"
      }
    },
    {
      "cell_type": "code",
      "source": [
        "def red():\n",
        "  num1=1\n",
        "  def blue():\n",
        "    num2=2\n",
        "    print(num1)\n",
        "    print(num2)\n",
        "  blue()\n",
        "  print(num1)\n",
        "red()"
      ],
      "metadata": {
        "colab": {
          "base_uri": "https://localhost:8080/"
        },
        "id": "so1MRCPNSt8V",
        "outputId": "52e30465-e5af-4e87-e0a1-b5831a6442ab"
      },
      "execution_count": null,
      "outputs": [
        {
          "output_type": "stream",
          "name": "stdout",
          "text": [
            "1\n",
            "2\n",
            "1\n"
          ]
        }
      ]
    },
    {
      "cell_type": "markdown",
      "source": [
        "Global keyword \n",
        "so far we haven't had any kind of a problem with global scope. So let's take any example\n"
      ],
      "metadata": {
        "id": "eDBj0KZuTJb3"
      }
    },
    {
      "cell_type": "code",
      "source": [
        "num=1\n",
        "def counter():\n",
        "  num=2\n",
        "  print(num)\n",
        "\n",
        "counter()\n",
        "\n",
        "#Now, when we make a reference to 'num' outside this function, we get 1 \n",
        "#instead of 2\n",
        "num"
      ],
      "metadata": {
        "colab": {
          "base_uri": "https://localhost:8080/"
        },
        "id": "8UwqnOlMVFZm",
        "outputId": "173d1352-35a8-47ef-aab2-5ac6586e1677"
      },
      "execution_count": null,
      "outputs": [
        {
          "output_type": "stream",
          "name": "stdout",
          "text": [
            "2\n"
          ]
        },
        {
          "output_type": "execute_result",
          "data": {
            "text/plain": [
              "1"
            ]
          },
          "metadata": {},
          "execution_count": 4
        }
      ]
    },
    {
      "cell_type": "markdown",
      "source": [
        "Global keyword in python\n",
        "- Why does this happen? well, this is because when we set 'a' to 2. it created a local variable in the local scope of 'counter'\n",
        "- This didn't change anything for the global 'a'"
      ],
      "metadata": {
        "id": "NL23KVJPVlfB"
      }
    },
    {
      "cell_type": "code",
      "source": [
        "a=1\n",
        "def counter():\n",
        "  global a\n",
        "  a=2\n",
        "  print(a)\n",
        "counter()"
      ],
      "metadata": {
        "colab": {
          "base_uri": "https://localhost:8080/"
        },
        "id": "jZGHxRqxWG8a",
        "outputId": "e7ef0b2e-3947-454b-b283-44f0f3be2be3"
      },
      "execution_count": null,
      "outputs": [
        {
          "output_type": "stream",
          "name": "stdout",
          "text": [
            "2\n"
          ]
        }
      ]
    },
    {
      "cell_type": "markdown",
      "source": [
        "Non local keyword in python\n",
        "- like the 'global' keyword, you want to make a change to a nonlocal variable, you must use the nonlocal keyword. Let's first try this without the keyword"
      ],
      "metadata": {
        "id": "LT0Ado3KWfIE"
      }
    },
    {
      "cell_type": "code",
      "source": [
        "def red():\n",
        "  a=1\n",
        "  def blue():\n",
        "    a=2\n",
        "    b=2\n",
        "    print(a)\n",
        "    print(b)\n",
        "  blue()\n",
        "  print(a)\n",
        "\n",
        "red()"
      ],
      "metadata": {
        "colab": {
          "base_uri": "https://localhost:8080/"
        },
        "id": "w2GzdzNSWyad",
        "outputId": "043de2d0-fe9a-4d24-e476-40d6849ada47"
      },
      "execution_count": null,
      "outputs": [
        {
          "output_type": "stream",
          "name": "stdout",
          "text": [
            "2\n",
            "2\n",
            "1\n"
          ]
        }
      ]
    },
    {
      "cell_type": "code",
      "source": [
        "def red():\n",
        "  a=1\n",
        "  def blue():\n",
        "    nonlocal a\n",
        "    a=2\n",
        "    b=2\n",
        "    print(a)\n",
        "    print(b)\n",
        "  blue()\n",
        "  print(a)\n",
        "\n",
        "red()"
      ],
      "metadata": {
        "colab": {
          "base_uri": "https://localhost:8080/"
        },
        "id": "c0RS9UmkXB-e",
        "outputId": "f0db6cce-2688-47cc-9615-6ac47c88a1ee"
      },
      "execution_count": null,
      "outputs": [
        {
          "output_type": "stream",
          "name": "stdout",
          "text": [
            "2\n",
            "2\n",
            "2\n"
          ]
        }
      ]
    },
    {
      "cell_type": "markdown",
      "source": [
        "Decision making statements are evaluation of conditions occuring while execution of the program and specifying actions taken according to the conditions\n",
        "\n",
        "-Control flow structure\n",
        "- while writing program, we almost always need the ability to check the condition and then change the course of program, the simplest way to do so is using:\n",
        "if statement \n",
        "\n"
      ],
      "metadata": {
        "id": "wAv8Zv2kdlcm"
      }
    },
    {
      "cell_type": "code",
      "source": [
        " var1=100\n",
        " if var1:\n",
        "   print(\"1- Got a true expression value\")\n",
        "   print(var1)\n",
        "var2=0\n",
        "if var2:\n",
        "  print(\"2- Got a true expression value\")\n",
        "  print(var2)\n",
        "print(\"Goodbye\")"
      ],
      "metadata": {
        "colab": {
          "base_uri": "https://localhost:8080/"
        },
        "id": "pZyxLmI5eaSs",
        "outputId": "e75a9692-d05a-4d49-ef59-474b6dc3281d"
      },
      "execution_count": null,
      "outputs": [
        {
          "output_type": "stream",
          "name": "stdout",
          "text": [
            "1- Got a true expression value\n",
            "100\n",
            "Goodbye\n"
          ]
        }
      ]
    },
    {
      "cell_type": "code",
      "source": [
        "#To check, entered number is even or not\n",
        "\n",
        "num=(int(input(\"Enter number : \")))\n",
        "if num%2==0:\n",
        "  print(\"Number is even\")"
      ],
      "metadata": {
        "colab": {
          "base_uri": "https://localhost:8080/"
        },
        "id": "FytQk3FohYLx",
        "outputId": "06952d38-92e6-4e60-c5b5-9a5419f889b2"
      },
      "execution_count": null,
      "outputs": [
        {
          "output_type": "stream",
          "name": "stdout",
          "text": [
            "Enter number : 2\n",
            "Number is even\n"
          ]
        }
      ]
    },
    {
      "cell_type": "code",
      "source": [
        "#Program to print the largest number among three\n",
        "\n",
        "num1=int(input(\"Enter number 1 :\"))\n",
        "num2=int(input(\"Enter number 2 :\"))\n",
        "num3=int(input(\"Enter number 3 :\"))\n",
        "if num1>num2 and num1>num3:\n",
        "  print(\"1 is largest\")\n",
        "if num2>num1 and num2>num3:\n",
        "  print(\"2 is largest\")\n",
        "else:\n",
        "  print(\"3 is largest\")"
      ],
      "metadata": {
        "colab": {
          "base_uri": "https://localhost:8080/"
        },
        "id": "r-dJhcCsh0Aa",
        "outputId": "35d1ff4a-af38-478a-de70-37590cb5848e"
      },
      "execution_count": null,
      "outputs": [
        {
          "output_type": "stream",
          "name": "stdout",
          "text": [
            "Enter number 1 :2\n",
            "Enter number 2 :3\n",
            "Enter number 3 :1\n",
            "2 is largest\n"
          ]
        }
      ]
    },
    {
      "cell_type": "code",
      "source": [
        "#Program of simple if else"
      ],
      "metadata": {
        "id": "FK5E6Yv6ju7B"
      },
      "execution_count": null,
      "outputs": []
    },
    {
      "cell_type": "markdown",
      "source": [
        "Self\n",
        "Using pointers in python\n"
      ],
      "metadata": {
        "id": "KsmdvQbWgL3m"
      }
    },
    {
      "cell_type": "code",
      "source": [
        "y=12\n",
        "print(&y)"
      ],
      "metadata": {
        "id": "3FQlrxCAgS3i"
      },
      "execution_count": null,
      "outputs": []
    },
    {
      "cell_type": "markdown",
      "source": [
        "#Date: 13May2022\n"
      ],
      "metadata": {
        "id": "kVSxgKTXh9Ir"
      }
    },
    {
      "cell_type": "markdown",
      "source": [
        "Python control structure \n",
        "- Decision making statement\n",
        "- Iterative statement\n",
        "\n",
        "Decision making statement(\n",
        "  1- Simple if\n",
        "  2- If else\n",
        "  3- Nested If\n",
        ")\n",
        "\n",
        "Types of loops in python\n",
        "1- while loop\n",
        "2- for loop\n",
        "3- Nested loop\n"
      ],
      "metadata": {
        "id": "iNAsrkMfiyYZ"
      }
    },
    {
      "cell_type": "code",
      "source": [
        "# while loop\n",
        "\n",
        "count = 0\n",
        "while (count<9):\n",
        "  print('The count is:',count)\n",
        "  count=count+1\n",
        "print(\"Example of while loop\")"
      ],
      "metadata": {
        "id": "8k3ttEuvh5Jw"
      },
      "execution_count": null,
      "outputs": []
    },
    {
      "cell_type": "code",
      "source": [
        "#Example of while looop\n",
        "\n",
        "i=1\n",
        "while(i<=10):\n",
        "  print(\"Even numbers\",2*i)\n",
        "  i=i+1\n",
        "\n",
        "print(\"First ten even numbers\")\n",
        "\n"
      ],
      "metadata": {
        "id": "An8rqcdHmR_l"
      },
      "execution_count": null,
      "outputs": []
    },
    {
      "cell_type": "code",
      "source": [
        "#Program to print even number from 1 to 10\n",
        "count=1\n",
        "while(count<=10):\n",
        "  if(count%2==0):\n",
        "    print(\"Even number\",count)\n",
        "  count=count+1"
      ],
      "metadata": {
        "id": "x8eY-_EHovnI"
      },
      "execution_count": null,
      "outputs": []
    },
    {
      "cell_type": "code",
      "source": [
        "#Program to check if the number is less than 5\n",
        "count=0\n",
        "while(count<5):\n",
        "  print(count,\"is less than 5\")\n",
        "  count=count+1\n",
        "else:\n",
        "  print(count,\"is not less than 5\")"
      ],
      "metadata": {
        "colab": {
          "base_uri": "https://localhost:8080/"
        },
        "id": "E6wCpFcmqjyC",
        "outputId": "26e616a1-8a37-4f51-b324-51628d29cc1a"
      },
      "execution_count": null,
      "outputs": [
        {
          "output_type": "stream",
          "name": "stdout",
          "text": [
            "0 is less than 5\n",
            "1 is less than 5\n",
            "2 is less than 5\n",
            "3 is less than 5\n",
            "4 is less than 5\n",
            "5 is not less than 5\n"
          ]
        }
      ]
    },
    {
      "cell_type": "code",
      "source": [
        "#Single statement suites\n",
        "#Infinite loop\n",
        "flag=1\n",
        "while(flag): print(\"Helloworld\")"
      ],
      "metadata": {
        "id": "foSuR-_hv0LW"
      },
      "execution_count": null,
      "outputs": []
    },
    {
      "cell_type": "code",
      "source": [
        "#Example of for loop\n",
        "\n",
        "#for letter in \"Python\":\n",
        "#  print('Current letter is:',letter)\n",
        "\n",
        "fruits=['Banana','Apple','Mango']\n",
        "for fruit in fruits:\n",
        "  print('Current fruit is :',fruit)\n",
        "\n",
        "print(\"Example of for loop\")"
      ],
      "metadata": {
        "colab": {
          "base_uri": "https://localhost:8080/"
        },
        "id": "lJScpyOowmw-",
        "outputId": "a458c65c-4007-4ef3-cdaf-531ecf70ca08"
      },
      "execution_count": null,
      "outputs": [
        {
          "output_type": "stream",
          "name": "stdout",
          "text": [
            "Current fruit is : Banana\n",
            "Current fruit is : Apple\n",
            "Current fruit is : Mango\n",
            "Example of for loop\n"
          ]
        }
      ]
    },
    {
      "cell_type": "code",
      "source": [
        "fruits=['Banana','Apple','Mango']\n",
        "for index in range(len(fruits)):\n",
        "  print('Current fruit :', fruits[index])\n",
        "print(\"Example with sequence index\")"
      ],
      "metadata": {
        "colab": {
          "base_uri": "https://localhost:8080/"
        },
        "id": "7IW_1Pdny9Oh",
        "outputId": "16247fdd-8d50-41ee-a34c-c0113d82fef9"
      },
      "execution_count": null,
      "outputs": [
        {
          "output_type": "stream",
          "name": "stdout",
          "text": [
            "Current fruit : Banana\n",
            "Current fruit : Apple\n",
            "Current fruit : Mango\n",
            "Example with sequence index\n"
          ]
        }
      ]
    },
    {
      "cell_type": "markdown",
      "source": [
        "#Date: 08june2022\n",
        "Here we are learning about python function and how to use different function in python.\n"
      ],
      "metadata": {
        "id": "jUVOE5nOnsFR"
      }
    },
    {
      "cell_type": "code",
      "source": [
        "'''Date: 06/08/2022\n",
        "</> Navee'''\n",
        "#Defining function\n",
        "def sum():\n",
        "  num1=int(input(\"Enter first number :\"))\n",
        "  num2=int(input(\"Enter second number :\"))\n",
        "  sum=num1+num2\n",
        "  return sum\n",
        "#Calling sum() function in print statement\n",
        "\n",
        "s=sum() \n",
        "'''Here we are calling the function and storing the return value in \n",
        "variable'''\n",
        "print(\"The sum is :\",s)"
      ],
      "metadata": {
        "colab": {
          "base_uri": "https://localhost:8080/"
        },
        "id": "OzVryH7EnyQa",
        "outputId": "ddd92d78-1479-466f-901f-ef0ea5a96b26"
      },
      "execution_count": null,
      "outputs": [
        {
          "output_type": "stream",
          "name": "stdout",
          "text": [
            "Enter first number :5\n",
            "Enter second number :4\n",
            "The sum is : 9\n"
          ]
        }
      ]
    },
    {
      "cell_type": "code",
      "source": [
        "#Program to delete function\n",
        "def delfun():\n",
        "  print(\"Hello dummy\")\n",
        "delfun()\n",
        "#Here we are deleting the function\n",
        "del delfun()"
      ],
      "metadata": {
        "id": "jUT__gCQqWOR"
      },
      "execution_count": null,
      "outputs": []
    },
    {
      "cell_type": "markdown",
      "source": [
        "#Lambda Function\n",
        "A function doesn't need to have a name. A lambda expression in Python allows us to create anonymous python function, and we use the 'lambda' keyword for it.\n",
        "The following is the syntax for a lambda expression.\n",
        "lambda arguments: expression\n",
        "\n",
        "- It's worth noting that it can have any number of arguments. but only one expressionn. It evaluates the value of that expression, and returns the result."
      ],
      "metadata": {
        "id": "_j-uwba6tcOw"
      }
    },
    {
      "cell_type": "code",
      "source": [
        "'''Lambda function\n",
        "Date: 08june2022\n",
        "</> Navee'''\n",
        "print(\"Example of lambda function\")\n",
        "print(\"*************************\")\n",
        "#Defining function\n",
        "myvar= lambda a,b:(a*b)+2\n",
        "\n",
        "#calling lambda function\n",
        "print(\"\\n\\nThe lambda function evaluated :\",myvar(3,5))\n",
        "\n",
        "print(\"\\n\\nEnd of the program\")\n",
        "print(\"******************\")"
      ],
      "metadata": {
        "colab": {
          "base_uri": "https://localhost:8080/"
        },
        "id": "vCJUd_ZavGbx",
        "outputId": "1a5b6fc2-54c6-4167-b206-7320876ecb77"
      },
      "execution_count": null,
      "outputs": [
        {
          "output_type": "stream",
          "name": "stdout",
          "text": [
            "Example of lambda function\n",
            "*************************\n",
            "\n",
            "\n",
            "The lambda function evaluated : 17\n",
            "\n",
            "\n",
            "End of the program\n",
            "******************\n"
          ]
        }
      ]
    },
    {
      "cell_type": "code",
      "source": [
        "#Program using lambda function\n",
        "'''Lambda function\n",
        "</> Navee '''\n",
        "print(\"Program for (a+b)² \")\n",
        "print(\"*******************\")\n",
        "#Defining function\n",
        "result= lambda a,b:((a*a)+(b*b)+(2*a*b))\n",
        "#calling lambda function\n",
        "print(\"\\n\\nThe lambda function evaluated :\",result(2,3))\n",
        "print(\"\\n\\nEnd of the program\")\n",
        "print(\"******************\")"
      ],
      "metadata": {
        "colab": {
          "base_uri": "https://localhost:8080/"
        },
        "id": "0X-EUW5Ywds6",
        "outputId": "d06c3707-4627-49f1-aa7a-5b44b46a42b4"
      },
      "execution_count": null,
      "outputs": [
        {
          "output_type": "stream",
          "name": "stdout",
          "text": [
            "Program for (a+b)² \n",
            "*******************\n",
            "\n",
            "\n",
            "The lambda function evaluated : 25\n",
            "\n",
            "\n",
            "End of the program\n",
            "******************\n"
          ]
        }
      ]
    },
    {
      "cell_type": "markdown",
      "source": [
        "#Recursive function\n",
        "When a function calls itself that is called recursion\n"
      ],
      "metadata": {
        "id": "r8kexFuOzFbn"
      }
    },
    {
      "cell_type": "code",
      "source": [
        "'''Recursive function\n",
        "</> Navee '''\n",
        "\n",
        "#defining function\n",
        "def factorial(x):\n",
        "  #Recursive function to find factorial of a number\n",
        "  if x==1:\n",
        "    return 1\n",
        "  else:\n",
        "    return (x*factorial(x-1))\n",
        "\n",
        "num=int(input(\"Enter number to find factorial :\"))\n",
        "#Function calling\n",
        "print(\"The factorial of\",num,\"is\",factorial(num))"
      ],
      "metadata": {
        "id": "aN1Np5z7z8CA"
      },
      "execution_count": null,
      "outputs": []
    },
    {
      "cell_type": "code",
      "source": [
        "#Program to print the fibonacci series using recursion\n",
        "#</> Navee\n",
        "#Defining function\n",
        "print(\"Program for printing fibonacci series\")\n",
        "print(\"*************************************\")\n",
        "def fibonacci(n):\n",
        "  if n<=1:\n",
        "    return (n)\n",
        "  else:\n",
        "    return(fibonacci(n-1)+fibonacci(n-2))\n",
        "\n",
        "nTerms=int(input(\"Enter number of terms :\"))\n",
        "if nTerms<=0:\n",
        "  print(\"Invalid input ! Please input a positive integer\")\n",
        "else:\n",
        "  print(\"Fibonacci series:\")\n",
        "for i in range(nTerms):\n",
        "  #function calling\n",
        "  print(fibonacci(i))"
      ],
      "metadata": {
        "colab": {
          "base_uri": "https://localhost:8080/"
        },
        "id": "2HLef1jJ3IGn",
        "outputId": "4b334d19-99a1-4d76-9ba7-50ea73ed7336"
      },
      "execution_count": null,
      "outputs": [
        {
          "output_type": "stream",
          "name": "stdout",
          "text": [
            "Enter number of terms :10\n",
            "Fibonacci series:\n",
            "0\n",
            "1\n",
            "1\n",
            "2\n",
            "3\n",
            "5\n",
            "8\n",
            "13\n",
            "21\n",
            "34\n"
          ]
        }
      ]
    },
    {
      "cell_type": "markdown",
      "source": [
        "\n",
        "\n",
        "```\n",
        "# This is formatted as code\n",
        "```\n",
        "\n",
        "#Date: 10june2022"
      ],
      "metadata": {
        "id": "hdVVUD4I6JFH"
      }
    },
    {
      "cell_type": "markdown",
      "source": [
        "Python string functions- consecutive sequence of characters is known as string"
      ],
      "metadata": {
        "id": "kVFZra8v6sHA"
      }
    },
    {
      "cell_type": "code",
      "source": [
        "#Program for string function\n",
        "str=\"Kendriya\"\n",
        "#To access the first string\n",
        "print(str[0])\n",
        "#To access the fourth character of the string\n",
        "print(str[3])\n",
        "#To access the last character of the string\n",
        "print(str[-1])\n",
        "#To access the third last character of the string\n",
        "print(str[-3])\n",
        "#To print the first few characters from the string\n",
        "print(str[0:3])"
      ],
      "metadata": {
        "colab": {
          "base_uri": "https://localhost:8080/"
        },
        "id": "Y3-DsCwA7Yfv",
        "outputId": "75fb936b-38fc-485c-bae6-9ec3b99c8bc2"
      },
      "execution_count": null,
      "outputs": [
        {
          "output_type": "stream",
          "name": "stdout",
          "text": [
            "K\n",
            "d\n",
            "a\n",
            "i\n",
            "Ken\n"
          ]
        }
      ]
    },
    {
      "cell_type": "markdown",
      "source": [
        "-Positive subscript helps in accessing the string from the beginning.\n",
        "-Negative subscript helps in accessing the string from the end."
      ],
      "metadata": {
        "id": "QmaaH6Dl80yB"
      }
    },
    {
      "cell_type": "code",
      "source": [
        "#Python creating and intitializing strings\n",
        "\n",
        "\n",
        "print(\"Ama\\\"s fri\")"
      ],
      "metadata": {
        "id": "4zdMsQ2y9t1d"
      },
      "execution_count": null,
      "outputs": []
    },
    {
      "cell_type": "markdown",
      "source": [
        "-In this example backslash(\\) voids the initial function and hence we can use special charaters as well."
      ],
      "metadata": {
        "id": "4mIhvOah-896"
      }
    },
    {
      "cell_type": "code",
      "source": [
        "#String traversal using for loop\n",
        "A=\"Mi Amor\"\n",
        "for i in A:\n",
        "  print(i)"
      ],
      "metadata": {
        "id": "QDMF074O_cBl"
      },
      "execution_count": null,
      "outputs": []
    },
    {
      "cell_type": "code",
      "source": [
        "#String traversal using while loop\n",
        "A=\"Mon cherie\"\n",
        "q=len(A)\n",
        "i=0\n",
        "while i<q:\n",
        "  print(A[i])\n",
        "  i=i+1"
      ],
      "metadata": {
        "id": "J3XRMngoALyL"
      },
      "execution_count": null,
      "outputs": []
    },
    {
      "cell_type": "code",
      "source": [
        "#Operator in string\n",
        "str=\"JIMS\"\n",
        "str1=\"Vasant kunj\"\n",
        "\n",
        "'''1 -Concatenation - operator joins the text on both sides of the operator'''\n",
        "print(str+str1)\n",
        "\n",
        "'''2 -Repetition - operator the string on the left hand side times the value on \n",
        "right hand side'''\n",
        "print(3*str)"
      ],
      "metadata": {
        "colab": {
          "base_uri": "https://localhost:8080/"
        },
        "id": "QlfWRXx2Bkx6",
        "outputId": "3a4fdc85-c86c-4da3-f388-182a64499cdd"
      },
      "execution_count": null,
      "outputs": [
        {
          "output_type": "stream",
          "name": "stdout",
          "text": [
            "JIMSVasant kunj\n",
            "JIMSJIMSJIMS\n"
          ]
        }
      ]
    },
    {
      "cell_type": "code",
      "source": [
        "#Python strings opertions\n",
        "'''3 - in(Membership) - operator displays 1 if the string, contains the given\n",
        "charcter pr the sequence of characters'''\n",
        "str=\"Bonjour\"\n",
        "'B' in str\n",
        "'Se' in str\n",
        "\n",
        "'''4 - not in  - operator displays 1 if the string does not contain the given\n",
        "character or the sequence of characters''' \n",
        "\"B\" not in str"
      ],
      "metadata": {
        "colab": {
          "base_uri": "https://localhost:8080/"
        },
        "id": "3fGnq7rQD2oi",
        "outputId": "02d68ab8-10e9-4179-f8d4-e73be3f2e9f5"
      },
      "execution_count": null,
      "outputs": [
        {
          "output_type": "execute_result",
          "data": {
            "text/plain": [
              "False"
            ]
          },
          "metadata": {},
          "execution_count": 41
        }
      ]
    },
    {
      "cell_type": "code",
      "source": [
        "#Python string operations\n",
        "str=\"Hari OM Hari OM\"\n",
        "\n",
        "#Optional slicing according to the query\n",
        "print(str[2:])\n",
        "print(str[:4])\n",
        "#Negative indexing\n",
        "print(str[-1:])\n",
        "print(str[:-1])\n",
        "\n",
        "#for i in range(0,10,2):print(str[i])"
      ],
      "metadata": {
        "colab": {
          "base_uri": "https://localhost:8080/"
        },
        "id": "FHXN6j4_E3CS",
        "outputId": "6e874cb5-d249-41a1-f2f3-bf444af298a4"
      },
      "execution_count": null,
      "outputs": [
        {
          "output_type": "stream",
          "name": "stdout",
          "text": [
            "ri OM Hari OM\n",
            "Hari\n",
            "M\n",
            "Hari OM Hari O\n"
          ]
        }
      ]
    },
    {
      "cell_type": "code",
      "source": [
        "#Built in function\n",
        "'''len() -returns the length of the string'''\n",
        "str=\"save EArth\"\n",
        "print(len(str))\n",
        "\n",
        "'''Capatilize function -Returns the exact copy of the string with the first \n",
        "letter in the upper case'''\n",
        "print(str.capitalize())\n",
        "\n",
        "'''find(sub(substring which we want to find),start,end) \n",
        "-Function is used to search the first occurence of the substring\n",
        "in the given string, It returns the index at which the substring starts. It returns -1\n",
        "if the substring does occur in the string.'''\n",
        "\n",
        "#Code for find function\n",
        "str.find('sa')\n",
        "''' - On omitting the start parameters, the function starts the search from the\n",
        "beginning'''\n",
        "str.find('A',1,9)\n",
        "\n",
        "'''Displays -1 because the susbstring could not be found between the given\n",
        "parameters''' "
      ],
      "metadata": {
        "colab": {
          "base_uri": "https://localhost:8080/",
          "height": 70
        },
        "id": "WqpiEJhRKLQL",
        "outputId": "b55687b9-8556-4284-e43f-334c17f81aac"
      },
      "execution_count": null,
      "outputs": [
        {
          "output_type": "stream",
          "name": "stdout",
          "text": [
            "10\n",
            "Save earth\n"
          ]
        },
        {
          "output_type": "execute_result",
          "data": {
            "text/plain": [
              "'Displays -1 because the susbstring could not be found between the given\\nparameters'"
            ],
            "application/vnd.google.colaboratory.intrinsic+json": {
              "type": "string"
            }
          },
          "metadata": {},
          "execution_count": 82
        }
      ]
    },
    {
      "cell_type": "code",
      "source": [
        "#Built-in function\n",
        "\n",
        "'''1- isalnum() -returns true is the string contains only letters and\n",
        "digit. It returns false if the string contains any special character\n",
        "like _,@,#'''\n",
        "'''2- isalpha() -Returns true if the string contains only letters\n",
        "otherwise return false'''\n",
        "'''3- isdigit() -Returns true if the string contains only numbers \n",
        "otherwise it returns false'''\n",
        "\n",
        "str=\"key\"\n",
        "str.isdigit()\n",
        "#'Str1earht'.isalnum()"
      ],
      "metadata": {
        "colab": {
          "base_uri": "https://localhost:8080/"
        },
        "id": "j7x1pYMHNF6B",
        "outputId": "9b3deb4f-22b5-4da1-c04b-ba035c89ff21"
      },
      "execution_count": null,
      "outputs": [
        {
          "output_type": "execute_result",
          "data": {
            "text/plain": [
              "False"
            ]
          },
          "metadata": {},
          "execution_count": 97
        }
      ]
    },
    {
      "cell_type": "markdown",
      "source": [
        "#Date: 13june2022"
      ],
      "metadata": {
        "id": "ojoSPRjV_LFj"
      }
    },
    {
      "cell_type": "code",
      "source": [
        "'''Program for palindrome.\n",
        "Date: 13june2022\n",
        "</> Navee'''\n",
        "\n",
        "def palin():\n",
        "  str=input(\"Enter the string :\")\n",
        "  l=len(str)\n",
        "  p=l-1\n",
        "  index=0\n",
        "  while(index<p):\n",
        "    if(str[index]==str[p]):\n",
        "      index=index+1\n",
        "      p=p-1 \n",
        "    else:\n",
        "      print(\"String is not a palindrome\")\n",
        "      break\n",
        "  else:\n",
        "      print(\"String is a palindrome\")\n",
        "palin()\n"
      ],
      "metadata": {
        "colab": {
          "base_uri": "https://localhost:8080/"
        },
        "id": "H2dbbRUk_SKs",
        "outputId": "b24e24e1-433f-4b68-ea51-2079b349c157"
      },
      "execution_count": null,
      "outputs": [
        {
          "output_type": "stream",
          "name": "stdout",
          "text": [
            "Enter the string :madam\n",
            "String is a palindrome\n"
          ]
        }
      ]
    },
    {
      "cell_type": "code",
      "source": [
        "'''Program for string count in python\n",
        "Date: 13June2022\n",
        "</>Navee'''\n",
        "\n",
        "def lettercount():\n",
        "  word='pineapple'\n",
        "  count=0\n",
        "  for letter in word:\n",
        "    if letter=='e':\n",
        "      count=count+1\n",
        "  print(count)\n",
        "lettercount()"
      ],
      "metadata": {
        "colab": {
          "base_uri": "https://localhost:8080/"
        },
        "id": "q5b6ECfcBh_k",
        "outputId": "fa8518ee-3382-4b3a-9402-f2edc6c27447"
      },
      "execution_count": null,
      "outputs": [
        {
          "output_type": "stream",
          "name": "stdout",
          "text": [
            "2\n"
          ]
        }
      ]
    },
    {
      "cell_type": "code",
      "source": [
        "#Program to count character and spaces in a given string\n",
        "'''Date:13june2022\n",
        "</>Navee'''\n",
        "def letcount():\n",
        "  str=input(\"Enter string: \")\n",
        "  space=0\n",
        "  count=0\n",
        "  for letter in str:\n",
        "    if letter==' ':\n",
        "      space=space+1\n",
        "    if letter.isalpha():\n",
        "      count=count+1\n",
        "  print(\"Number of spaces are :\",space)\n",
        "  print(\"Number of characters are :\",count)\n",
        "letcount()"
      ],
      "metadata": {
        "id": "OdZHdbs8Dqnt"
      },
      "execution_count": null,
      "outputs": []
    },
    {
      "cell_type": "code",
      "source": [
        "#Program to find string in the end or in the beginning using meta character\n",
        "\n",
        "def find():\n",
        "  import re\n",
        "  string1='SitaRam'\n",
        "  if re.search('Ram$',string1):\n",
        "    print(\"String found\")\n",
        "  else:\n",
        "    print(\"No match\")\n",
        "find()"
      ],
      "metadata": {
        "colab": {
          "base_uri": "https://localhost:8080/"
        },
        "id": "1m_dinOwHm6Y",
        "outputId": "54438a10-3457-4b88-bc65-f3b112d4b4d5"
      },
      "execution_count": null,
      "outputs": [
        {
          "output_type": "stream",
          "name": "stdout",
          "text": [
            "String found\n"
          ]
        }
      ]
    },
    {
      "cell_type": "markdown",
      "source": [
        "#Date: 14June2022\n",
        "RegEx Module - Is a sequence of characters that forms a search pattern\n",
        "- RegEx can be used to check if a string contains the specified search pattern"
      ],
      "metadata": {
        "id": "LrvV67A0WZ3N"
      }
    },
    {
      "cell_type": "markdown",
      "source": [
        "#Findall() function\n",
        "- The findall() function returns a list containing all matches."
      ],
      "metadata": {
        "id": "a2e973dMa1qv"
      }
    },
    {
      "cell_type": "code",
      "source": [
        "'''Program using re module\n",
        "date:14june2022\n",
        "</> Navee'''\n",
        "import re\n",
        "\n",
        "txt = \"The rain in Spain\"\n",
        "\n",
        "#Check if \"Portugal\" is in the string:\n",
        "\n",
        "x = re.findall(\"Portugal\", txt)\n",
        "print(x)\n",
        "\n",
        "if (x):\n",
        "  print(\"Yes, there is at least one match!\")\n",
        "else:\n",
        "  print(\"No match\")\n"
      ],
      "metadata": {
        "colab": {
          "base_uri": "https://localhost:8080/"
        },
        "id": "QQ2mEuGXZAOY",
        "outputId": "47caf46b-1098-4b75-c1b1-67a82b9ff4dd"
      },
      "execution_count": null,
      "outputs": [
        {
          "output_type": "stream",
          "name": "stdout",
          "text": [
            "[]\n",
            "No match\n"
          ]
        }
      ]
    },
    {
      "cell_type": "markdown",
      "source": [
        "#Search() function\n",
        "The search() function searches the string for a match, and returns a Match object if there is a match."
      ],
      "metadata": {
        "id": "fRhMG09nbH5b"
      }
    },
    {
      "cell_type": "code",
      "source": [
        "'''Program using re module\n",
        "date:14june2022\n",
        "</> Navee'''\n",
        "import re\n",
        "#Check if the string starts with \"The\" and ends with \"Spain\":\n",
        "\n",
        "txt = \"The rain in Spain\"\n",
        "x = re.search(\"^The.*Spain$\", txt)\n",
        "\n",
        "if x:\n",
        "  print(\"YES! We have a match!\")\n",
        "else:\n",
        "  print(\"No match\")"
      ],
      "metadata": {
        "colab": {
          "base_uri": "https://localhost:8080/"
        },
        "id": "3cIsQKdtXkoO",
        "outputId": "4d42e8d7-e155-41bf-cc57-a892c078ba2d"
      },
      "execution_count": null,
      "outputs": [
        {
          "output_type": "stream",
          "name": "stdout",
          "text": [
            "YES! We have a match!\n"
          ]
        }
      ]
    },
    {
      "cell_type": "code",
      "source": [
        "'''Program using re module\n",
        "date:14june2022\n",
        "</> Navee'''\n",
        "import re\n",
        "\n",
        "txt = \"The rain in Spain\"\n",
        "x = re.search(\"\\s\", txt)\n",
        "\n",
        "print(\"The first white-space character is located in position:\", x.start())"
      ],
      "metadata": {
        "colab": {
          "base_uri": "https://localhost:8080/"
        },
        "id": "xJhpz2spZXll",
        "outputId": "0db0f874-af94-4461-d9cb-110c8ff0cad7"
      },
      "execution_count": null,
      "outputs": [
        {
          "output_type": "stream",
          "name": "stdout",
          "text": [
            "The first white-space character is located in position: 3\n"
          ]
        }
      ]
    },
    {
      "cell_type": "markdown",
      "source": [
        "#Split() expression\n",
        "- The split() function returns a list where the string has been split at each match:"
      ],
      "metadata": {
        "id": "oWWBGlv9bW-l"
      }
    },
    {
      "cell_type": "code",
      "source": [
        "'''Program using re module\n",
        "date:14june2022\n",
        "</> Navee'''\n",
        "import re\n",
        "#Split the string at every white-space character:\n",
        "txt=\"The rain in Spain\"\n",
        "x=re.split(\"\\s\",txt)\n",
        "print(x)"
      ],
      "metadata": {
        "colab": {
          "base_uri": "https://localhost:8080/"
        },
        "id": "PQt-lNsebmM5",
        "outputId": "f2707554-7323-4d68-ab2f-e2f54fb5a4c6"
      },
      "execution_count": null,
      "outputs": [
        {
          "output_type": "stream",
          "name": "stdout",
          "text": [
            "['The', 'rain', 'in', 'Spain']\n"
          ]
        }
      ]
    },
    {
      "cell_type": "code",
      "source": [
        "'''Program using re module\n",
        "date:14june2022\n",
        "</> Navee'''\n",
        "import re\n",
        "#Split the string only at the first occurence\n",
        "txt=\"The rain in Spain\"\n",
        "x=re.split(\"\\s\",txt,1)\n",
        "print(x)"
      ],
      "metadata": {
        "colab": {
          "base_uri": "https://localhost:8080/"
        },
        "id": "zQR4QTjEcOcX",
        "outputId": "070abe2b-cd62-422d-f232-e099e6530522"
      },
      "execution_count": null,
      "outputs": [
        {
          "output_type": "stream",
          "name": "stdout",
          "text": [
            "['The', 'rain in Spain']\n"
          ]
        }
      ]
    },
    {
      "cell_type": "markdown",
      "source": [
        "#Sub() function\n",
        "- Sub() function replaces the matches with the text of your choice"
      ],
      "metadata": {
        "id": "S9EslWOBciZt"
      }
    },
    {
      "cell_type": "code",
      "source": [
        "'''Program using re module\n",
        "date:14june2022\n",
        "</> Navee'''\n",
        "\n",
        "import re\n",
        "#Replace every white-space character with the number 9:\n",
        "txt= \"The rain in Spain\"\n",
        "x=re.sub(\"\\s\",\"9\",txt)\n",
        "print(x)"
      ],
      "metadata": {
        "colab": {
          "base_uri": "https://localhost:8080/"
        },
        "id": "7zOSa97nctLF",
        "outputId": "01d35000-1544-454c-d36c-be3fc0e60eeb"
      },
      "execution_count": null,
      "outputs": [
        {
          "output_type": "stream",
          "name": "stdout",
          "text": [
            "The9rain9in9Spain\n"
          ]
        }
      ]
    },
    {
      "cell_type": "markdown",
      "source": [
        "You can control the number of replacements by specifying the count parameter."
      ],
      "metadata": {
        "id": "IKIJK__OdWUb"
      }
    },
    {
      "cell_type": "code",
      "source": [
        "'''Program using re module\n",
        "date:14june2022\n",
        "</> Navee'''\n",
        "import re\n",
        "#Replace the first 2 occurences\n",
        "txt=\"The rain in Spain\"\n",
        "x=re.sub(\"\\s\",\"9\",txt,2)\n",
        "print(x)"
      ],
      "metadata": {
        "colab": {
          "base_uri": "https://localhost:8080/"
        },
        "id": "GZj6LxZCdieo",
        "outputId": "633db849-648e-4437-9100-ac602bfced33"
      },
      "execution_count": null,
      "outputs": [
        {
          "output_type": "stream",
          "name": "stdout",
          "text": [
            "The9rain9in Spain\n"
          ]
        }
      ]
    },
    {
      "cell_type": "markdown",
      "source": [
        "#Match object \n",
        "A match object is an object containing information about the search and the result."
      ],
      "metadata": {
        "id": "_dpbzxGJd7Sb"
      }
    },
    {
      "cell_type": "code",
      "source": [
        "'''Program using re module\n",
        "date:14june2022\n",
        "</> Navee'''\n",
        "\n",
        "import re\n",
        "#Do a search that will return a Match object\n",
        "txt=\"The rain in Spain\"\n",
        "x=re.search(\"ai\",txt)\n",
        "print(x) #This will print an object\n"
      ],
      "metadata": {
        "colab": {
          "base_uri": "https://localhost:8080/"
        },
        "id": "SfKsVgJheMhD",
        "outputId": "6ea80093-a6d7-411f-a398-60741642cb57"
      },
      "execution_count": null,
      "outputs": [
        {
          "output_type": "stream",
          "name": "stdout",
          "text": [
            "<re.Match object; span=(5, 7), match='ai'>\n"
          ]
        }
      ]
    },
    {
      "cell_type": "markdown",
      "source": [
        "#Date:16june2022\n",
        "\n",
        "Started using numpy module\n"
      ],
      "metadata": {
        "id": "gyFVR00xg9c1"
      }
    },
    {
      "cell_type": "code",
      "source": [
        "''' Program using numpy library \n",
        "</> Navee \n",
        "Using the basic commands from NumPy '''\n",
        "\n",
        "import numpy\n",
        "arr=numpy.array([[1,2,3,4],[6,7,8,9]])\n",
        "ar=numpy.array((1,2,3,4)) #Tuple to create a NumPy array\n",
        "print(arr) #Printing array\n",
        "print(arr[0,1]) #Printing element from 2d array\n",
        "print(ar) #Printing tuple as array\n",
        "a=type(arr) \n",
        "print(a) #Used to fetch datatype\n",
        "print(arr.ndim) #Used to tell the dimension of the array\n",
        "print(arr.dtype)\n",
        "\n",
        "print(numpy.__version__) #Command to get the version of numpy\n"
      ],
      "metadata": {
        "colab": {
          "base_uri": "https://localhost:8080/"
        },
        "id": "6SmK62cIhF2l",
        "outputId": "8b1b959c-2901-4568-f699-78ed0b6a828e"
      },
      "execution_count": null,
      "outputs": [
        {
          "output_type": "stream",
          "name": "stdout",
          "text": [
            "[[1 2 3 4]\n",
            " [6 7 8 9]]\n",
            "2\n",
            "[1 2 3 4]\n",
            "<class 'numpy.ndarray'>\n",
            "2\n",
            "int64\n",
            "1.21.6\n"
          ]
        }
      ]
    },
    {
      "cell_type": "code",
      "source": [
        "#Program to access array elements\n",
        "#</> Navee\n",
        "import numpy as np\n",
        "arr=np.array([1,2,3,4])\n",
        "print(arr[2]+arr[3])  #Using + to add two array elements\n",
        "\n",
        "print(arr[0]+arr[3])  #Using + to add two array elements"
      ],
      "metadata": {
        "colab": {
          "base_uri": "https://localhost:8080/"
        },
        "id": "ILNp2HD6n11g",
        "outputId": "cb613472-13e2-4ae1-a710-64939d35edcc"
      },
      "execution_count": null,
      "outputs": [
        {
          "output_type": "stream",
          "name": "stdout",
          "text": [
            "7\n",
            "5\n"
          ]
        }
      ]
    },
    {
      "cell_type": "code",
      "source": [
        "#Program creating 3-D array elements \n",
        "'''To access elements from 3-D arrrays we can use comma separated integers\n",
        "representing the dimensions and the index of the element'''\n",
        "#</> Navee\n",
        "import numpy as np\n",
        "arr=np.array([[[1,2,3],[4,5,6]],[[7,8,9],[10,11,12]]])\n",
        "print(arr.shape) #Used to get to know the shape of the array\n",
        "\n",
        "print(arr[1,0,2]) #Accessing element in 3-D array"
      ],
      "metadata": {
        "colab": {
          "base_uri": "https://localhost:8080/"
        },
        "id": "rWz7XDNsoZ3w",
        "outputId": "c219c8ab-738d-481e-f30c-ba57cd295ede"
      },
      "execution_count": null,
      "outputs": [
        {
          "output_type": "stream",
          "name": "stdout",
          "text": [
            "(2, 2, 3)\n",
            "9\n"
          ]
        }
      ]
    },
    {
      "cell_type": "code",
      "source": [
        "#Program using negative indexing\n",
        "#</> Navee\n",
        "import numpy as np\n",
        "\n",
        "arr=np.array([[1,2,3,4],[5,6,7,8]])\n",
        "print('Last element from 2nd dim : 'arr[0,-1])"
      ],
      "metadata": {
        "colab": {
          "base_uri": "https://localhost:8080/"
        },
        "id": "QTvXJodkqA2R",
        "outputId": "fc7acb87-20ee-487e-b14b-2dbfd1db2e1c"
      },
      "execution_count": null,
      "outputs": [
        {
          "output_type": "stream",
          "name": "stdout",
          "text": [
            "4\n"
          ]
        }
      ]
    },
    {
      "cell_type": "code",
      "source": [
        "#Program to get the data type of an array object\n",
        "#</> Navee\n",
        "import numpy as np\n",
        "arr=np.array([1,2,3,4])\n",
        "print(arr.dtype)"
      ],
      "metadata": {
        "colab": {
          "base_uri": "https://localhost:8080/"
        },
        "id": "MAjKcR61u8wr",
        "outputId": "212d2eb9-62d0-4cac-e42b-6089357cd76b"
      },
      "execution_count": null,
      "outputs": [
        {
          "output_type": "stream",
          "name": "stdout",
          "text": [
            "int64\n"
          ]
        }
      ]
    },
    {
      "cell_type": "code",
      "source": [
        "#Program to get the data type of an array object\n",
        "#</> Navee\n",
        "import numpy as np\n",
        "arr=np.array(['delhi','Mumbai'])\n",
        "print(arr.dtype) #String data type is represented as U6"
      ],
      "metadata": {
        "colab": {
          "base_uri": "https://localhost:8080/"
        },
        "id": "XeIW7gq2vOAb",
        "outputId": "2bb14139-34f4-4ef5-8e8a-2f78bc916b74"
      },
      "execution_count": null,
      "outputs": [
        {
          "output_type": "stream",
          "name": "stdout",
          "text": [
            "<U6\n"
          ]
        }
      ]
    },
    {
      "cell_type": "code",
      "source": [
        "#Program to create an array with data type string\n",
        "#</> Navee\n",
        "import numpy as np\n",
        "arr=np.array([1,2,3,4],dtype='S')\n",
        "\n",
        "print(arr)\n",
        "print(arr.dtype)"
      ],
      "metadata": {
        "colab": {
          "base_uri": "https://localhost:8080/"
        },
        "id": "W_u3ySANvnJO",
        "outputId": "6c27cc3b-12bd-426f-ed5c-9ca7c43119ee"
      },
      "execution_count": null,
      "outputs": [
        {
          "output_type": "stream",
          "name": "stdout",
          "text": [
            "[b'1' b'2' b'3' b'4']\n",
            "|S1\n"
          ]
        }
      ]
    },
    {
      "cell_type": "code",
      "source": [
        "#Program to create an array with data type 4bytes string\n",
        "#</> Navee\n",
        "import numpy as np\n",
        "arr=np.array([1,2,3,4],dtype='i4') \n",
        "#Defining size of the array with i4 (int32)\n",
        " \n",
        "print(arr)\n",
        "print(arr.dtype)"
      ],
      "metadata": {
        "colab": {
          "base_uri": "https://localhost:8080/"
        },
        "id": "-qBdpRg6wWgE",
        "outputId": "ebce87c9-a080-4f86-cd09-e64fe888cf1c"
      },
      "execution_count": null,
      "outputs": [
        {
          "output_type": "stream",
          "name": "stdout",
          "text": [
            "[1 2 3 4]\n",
            "int64\n"
          ]
        }
      ]
    },
    {
      "cell_type": "code",
      "source": [
        "#Program to change data type from float to integer by using 'i' as parameter value\n",
        "#</> Navee\n",
        "import numpy as np\n",
        "arr=np.array([1.1,2.2,3.3,4.9])\n",
        "newarr=arr.astype('i')\n",
        "print(newarr)\n",
        "print(newarr.dtype)"
      ],
      "metadata": {
        "colab": {
          "base_uri": "https://localhost:8080/"
        },
        "id": "4ogGCgMhwplj",
        "outputId": "1039913e-10f8-4cdf-ee3c-1fd1e51f253b"
      },
      "execution_count": null,
      "outputs": [
        {
          "output_type": "stream",
          "name": "stdout",
          "text": [
            "[1 2 3 4]\n",
            "int32\n"
          ]
        }
      ]
    },
    {
      "cell_type": "code",
      "source": [
        "#Program to change data type from float to integer by using int as parameter value\n",
        "#</> Navee\n",
        "import numpy as np\n",
        "arr=np.array([1.1,2.2,3.3,4.4])\n",
        "newarr=arr.astype(int)\n",
        "print(newarr)\n",
        "print(newarr.dtype)"
      ],
      "metadata": {
        "colab": {
          "base_uri": "https://localhost:8080/"
        },
        "id": "2BeuWm2JxH-4",
        "outputId": "1c7bb2c1-e63c-43dc-8f29-fd0784687742"
      },
      "execution_count": null,
      "outputs": [
        {
          "output_type": "stream",
          "name": "stdout",
          "text": [
            "[1 2 3 4]\n",
            "int64\n"
          ]
        }
      ]
    },
    {
      "cell_type": "code",
      "source": [
        "#Program to change data type from integer to boolean\n",
        "#</> Navee\n",
        "import numpy as np\n",
        "arr=np.array([1,2,3,4])\n",
        "newarr=arr.astype(bool)\n",
        "print(newarr)\n",
        "print(newarr.dtype)"
      ],
      "metadata": {
        "colab": {
          "base_uri": "https://localhost:8080/"
        },
        "id": "atkYMUC3xexi",
        "outputId": "bdde3076-dbb2-4ae7-ef13-c6d4bfe73370"
      },
      "execution_count": null,
      "outputs": [
        {
          "output_type": "stream",
          "name": "stdout",
          "text": [
            "[ True  True  True  True]\n",
            "bool\n"
          ]
        }
      ]
    },
    {
      "cell_type": "markdown",
      "source": [
        "#Date:17june2022\n",
        "\n",
        "File handling in python\n"
      ],
      "metadata": {
        "id": "mUA1yONEqa-4"
      }
    },
    {
      "cell_type": "code",
      "source": [
        "f=open(\"file:///C:/Users/bca/Desktop/BCA2021Navee/Python/File%20handling/file.txt\")\n",
        "print(f.read())\n",
        "\n",
        "''' \n",
        "Program to fetch file in gocolab\n",
        "\n",
        "from google.colab import drive\n",
        "\n",
        "drive.mount(\"/content/gdrive\")\n",
        "\n",
        "from IPython.display import Image\n",
        "'''"
      ],
      "metadata": {
        "colab": {
          "base_uri": "https://localhost:8080/",
          "height": 200
        },
        "id": "lghMQYsiqhAs",
        "outputId": "f2209629-a3e6-4c24-a505-eb8e51f1b93d"
      },
      "execution_count": null,
      "outputs": [
        {
          "output_type": "error",
          "ename": "FileNotFoundError",
          "evalue": "ignored",
          "traceback": [
            "\u001b[0;31m---------------------------------------------------------------------------\u001b[0m",
            "\u001b[0;31mFileNotFoundError\u001b[0m                         Traceback (most recent call last)",
            "\u001b[0;32m<ipython-input-1-63eacae7d395>\u001b[0m in \u001b[0;36m<module>\u001b[0;34m()\u001b[0m\n\u001b[0;32m----> 1\u001b[0;31m \u001b[0mf\u001b[0m\u001b[0;34m=\u001b[0m\u001b[0mopen\u001b[0m\u001b[0;34m(\u001b[0m\u001b[0;34m\"file:///C:/Users/bca/Desktop/BCA2021Navee/Python/File%20handling/file.txt\"\u001b[0m\u001b[0;34m)\u001b[0m\u001b[0;34m\u001b[0m\u001b[0;34m\u001b[0m\u001b[0m\n\u001b[0m\u001b[1;32m      2\u001b[0m \u001b[0mprint\u001b[0m\u001b[0;34m(\u001b[0m\u001b[0mf\u001b[0m\u001b[0;34m.\u001b[0m\u001b[0mread\u001b[0m\u001b[0;34m(\u001b[0m\u001b[0;34m)\u001b[0m\u001b[0;34m)\u001b[0m\u001b[0;34m\u001b[0m\u001b[0;34m\u001b[0m\u001b[0m\n",
            "\u001b[0;31mFileNotFoundError\u001b[0m: [Errno 2] No such file or directory: 'file:///C:/Users/bca/Desktop/BCA2021Navee/Python/File%20handling/file.txt'"
          ]
        }
      ]
    }
  ]
}